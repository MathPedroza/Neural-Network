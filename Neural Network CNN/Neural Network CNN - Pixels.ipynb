{
 "cells": [
  {
   "cell_type": "markdown",
   "id": "6cbcf6a8",
   "metadata": {},
   "source": [
    "# IMPORTANDO AS BIBLIOTECAS"
   ]
  },
  {
   "cell_type": "code",
   "execution_count": 1,
   "id": "d6978f86",
   "metadata": {},
   "outputs": [],
   "source": [
    "# Bibliotecas necessárias\n",
    "# Manipulação de dados\n",
    "import pandas as pd\n",
    "# Redes Neurais - CNN\n",
    "from tensorflow import keras\n",
    "from tensorflow.keras.datasets import mnist\n",
    "from tensorflow.keras.models import Sequential\n",
    "from tensorflow.keras.layers import Dense, Dropout, Conv2D, MaxPooling2D, Flatten\n",
    "from tensorflow.keras.optimizers import RMSprop\n",
    "# Plot - Biblioteca para uso de imagens e gráficos\n",
    "import matplotlib.pyplot as plt\n",
    "%matplotlib inline\n",
    "# Avaliação - Matriz de Confusão\n",
    "from sklearn.metrics import classification_report, confusion_matrix"
   ]
  },
  {
   "cell_type": "code",
   "execution_count": 2,
   "id": "8d4c2f68",
   "metadata": {},
   "outputs": [],
   "source": [
    "# Lendo o dataset de treinamento\n",
    "train = pd.read_csv(\"train.csv\")"
   ]
  },
  {
   "cell_type": "code",
   "execution_count": 3,
   "id": "aa8982ab",
   "metadata": {},
   "outputs": [
    {
     "name": "stdout",
     "output_type": "stream",
     "text": [
      "Quantidade de elementos de treino: 42000\n",
      "   label  pixel0  pixel1  pixel2  pixel3  pixel4  pixel5  pixel6  pixel7  \\\n",
      "0      1       0       0       0       0       0       0       0       0   \n",
      "1      0       0       0       0       0       0       0       0       0   \n",
      "2      1       0       0       0       0       0       0       0       0   \n",
      "3      4       0       0       0       0       0       0       0       0   \n",
      "4      0       0       0       0       0       0       0       0       0   \n",
      "\n",
      "   pixel8  ...  pixel774  pixel775  pixel776  pixel777  pixel778  pixel779  \\\n",
      "0       0  ...         0         0         0         0         0         0   \n",
      "1       0  ...         0         0         0         0         0         0   \n",
      "2       0  ...         0         0         0         0         0         0   \n",
      "3       0  ...         0         0         0         0         0         0   \n",
      "4       0  ...         0         0         0         0         0         0   \n",
      "\n",
      "   pixel780  pixel781  pixel782  pixel783  \n",
      "0         0         0         0         0  \n",
      "1         0         0         0         0  \n",
      "2         0         0         0         0  \n",
      "3         0         0         0         0  \n",
      "4         0         0         0         0  \n",
      "\n",
      "[5 rows x 785 columns]\n"
     ]
    }
   ],
   "source": [
    "# Analisando o dataset\n",
    "print(\"Quantidade de elementos de treino: {}\". format(len(train)))\n",
    "print(train.head())"
   ]
  },
  {
   "cell_type": "code",
   "execution_count": 4,
   "id": "06658f25",
   "metadata": {},
   "outputs": [
    {
     "name": "stdout",
     "output_type": "stream",
     "text": [
      "   pixel0  pixel1  pixel2  pixel3  pixel4  pixel5  pixel6  pixel7  pixel8  \\\n",
      "0       0       0       0       0       0       0       0       0       0   \n",
      "1       0       0       0       0       0       0       0       0       0   \n",
      "2       0       0       0       0       0       0       0       0       0   \n",
      "3       0       0       0       0       0       0       0       0       0   \n",
      "4       0       0       0       0       0       0       0       0       0   \n",
      "\n",
      "   pixel9  ...  pixel774  pixel775  pixel776  pixel777  pixel778  pixel779  \\\n",
      "0       0  ...         0         0         0         0         0         0   \n",
      "1       0  ...         0         0         0         0         0         0   \n",
      "2       0  ...         0         0         0         0         0         0   \n",
      "3       0  ...         0         0         0         0         0         0   \n",
      "4       0  ...         0         0         0         0         0         0   \n",
      "\n",
      "   pixel780  pixel781  pixel782  pixel783  \n",
      "0         0         0         0         0  \n",
      "1         0         0         0         0  \n",
      "2         0         0         0         0  \n",
      "3         0         0         0         0  \n",
      "4         0         0         0         0  \n",
      "\n",
      "[5 rows x 784 columns]\n"
     ]
    }
   ],
   "source": [
    "# Separando x_train e y_train para teste e treino\n",
    "Y = train[\"label\"]\n",
    "X = train.drop(labels = [\"label\"],axis = 1)\n",
    "print(X.head())\n",
    "# Em formato numpy array de imagens 28 x 28"
   ]
  },
  {
   "cell_type": "code",
   "execution_count": 5,
   "id": "ab7a195d",
   "metadata": {},
   "outputs": [
    {
     "name": "stdout",
     "output_type": "stream",
     "text": [
      "(42000, 784)\n"
     ]
    }
   ],
   "source": [
    "print(X.shape) # tamanho da base"
   ]
  },
  {
   "cell_type": "code",
   "execution_count": 6,
   "id": "50dc0720",
   "metadata": {},
   "outputs": [
    {
     "data": {
      "image/png": "[encoded data removed]",
      "text/plain": [
       "<Figure size 432x288 with 1 Axes>"
      ]
     },
     "metadata": {
      "needs_background": "light"
     },
     "output_type": "display_data"
    },
    {
     "name": "stdout",
     "output_type": "stream",
     "text": [
      "Label: 1\n"
     ]
    }
   ],
   "source": [
    "# Entendo melhor com plot\n",
    "plt.imshow(X.values[0].reshape(28,28), cmap=plt.cm.binary)\n",
    "plt.show()\n",
    "print('Label: {}'.format(Y[0]))"
   ]
  },
  {
   "cell_type": "code",
   "execution_count": 7,
   "id": "7e88880b",
   "metadata": {},
   "outputs": [],
   "source": [
    "# Transformando a imagem 2d em um numpy array (imagem 28*28)\n",
    "x = X.values.reshape(42000, 28, 28, 1)\n",
    "\n",
    "#Normalizando para valores entre 0 e 1, fazendo a divisão por 255\n",
    "x = x.astype('float32')\n",
    "x /= 255"
   ]
  },
  {
   "cell_type": "code",
   "execution_count": 8,
   "id": "50ec1f26",
   "metadata": {},
   "outputs": [
    {
     "name": "stdout",
     "output_type": "stream",
     "text": [
      "[0. 1. 0. 0. 0. 0. 0. 0. 0. 0.]\n"
     ]
    }
   ],
   "source": [
    "# Ajustando o formato de saída\n",
    "num_classes = 10\n",
    "\n",
    "# Convertendo para um vetor de saida com 10 dimensoes\n",
    "# Ex: [0,0,0,0,0,0,0,0,1,0]\n",
    "y = keras.utils.to_categorical(Y, num_classes)\n",
    "print(y[0])"
   ]
  },
  {
   "cell_type": "code",
   "execution_count": 38,
   "id": "03156cd8",
   "metadata": {},
   "outputs": [
    {
     "name": "stdout",
     "output_type": "stream",
     "text": [
      "Quantidade de treino: 37800\n",
      "Quantidade de validação: 4200\n"
     ]
    }
   ],
   "source": [
    "# Na minha base, foram separados para treino 90% e 10% de validação\n",
    "from sklearn.model_selection import train_test_split\n",
    "x_train, x_val, y_train, y_val = train_test_split(x, y, test_size = 0.1, random_state=5)\n",
    "print('Quantidade de treino: {}'.format(len(x_train)))\n",
    "print('Quantidade de validação: {}'.format(len(x_val)))"
   ]
  },
  {
   "cell_type": "markdown",
   "id": "954358b0",
   "metadata": {},
   "source": [
    "# CRIANDO O MODELO DA REDE NEURAL CNN - SEQUENCIAL"
   ]
  },
  {
   "cell_type": "code",
   "execution_count": 10,
   "id": "08dfd413",
   "metadata": {},
   "outputs": [
    {
     "name": "stdout",
     "output_type": "stream",
     "text": [
      "Model: \"sequential\"\n",
      "_________________________________________________________________\n",
      " Layer (type)                Output Shape              Param #   \n",
      "=================================================================\n",
      " conv2d (Conv2D)             (None, 26, 26, 20)        200       \n",
      "                                                                 \n",
      " max_pooling2d (MaxPooling2D  (None, 13, 13, 20)       0         \n",
      " )                                                               \n",
      "                                                                 \n",
      " conv2d_1 (Conv2D)           (None, 11, 11, 40)        7240      \n",
      "                                                                 \n",
      " flatten (Flatten)           (None, 4840)              0         \n",
      "                                                                 \n",
      " dense (Dense)               (None, 50)                242050    \n",
      "                                                                 \n",
      " dropout (Dropout)           (None, 50)                0         \n",
      "                                                                 \n",
      " dense_1 (Dense)             (None, 10)                510       \n",
      "                                                                 \n",
      "=================================================================\n",
      "Total params: 250,000\n",
      "Trainable params: 250,000\n",
      "Non-trainable params: 0\n",
      "_________________________________________________________________\n"
     ]
    }
   ],
   "source": [
    "# Criando o modelo Sequential\n",
    "# Sequential: Modelo Keras de ir adicionando camadas (como um lego)\n",
    "# Conv2D: Camada com kernels (filtros) que percorrem a imagem extraindo caracterísitcas (mapas de caracteísticas)\n",
    "# MaxPooling2D: Camada que reduz a dimensionalidade dos mapas de características 2D\n",
    "# Flatten: Camada que transforma um mapa de características 2D num vetor para classficador final\n",
    "# Dense: Camada onde todas as entradas estão conectadas em cada neurônio (totalmente conectada)\n",
    "# Dropout: Camada usa durante treino que descarta aleatoriamente um percentual de conexões (reduz overfitting)\n",
    "\n",
    "model = Sequential()\n",
    "model.add(Conv2D(20, kernel_size=(3, 3),\n",
    "                 activation='relu',\n",
    "                 input_shape=(28,28,1)))\n",
    "model.add(MaxPooling2D(pool_size=(2, 2)))\n",
    "model.add(Conv2D(40, kernel_size=(3,3), activation='relu'))\n",
    "model.add(Flatten())\n",
    "model.add(Dense(50, activation='relu'))\n",
    "model.add(Dropout(0.2))\n",
    "model.add(Dense(num_classes, activation='softmax'))\n",
    "model.summary()"
   ]
  },
  {
   "cell_type": "code",
   "execution_count": 11,
   "id": "6160fa05",
   "metadata": {},
   "outputs": [],
   "source": [
    "# Compilando o modelo\n",
    "model.compile(loss='categorical_crossentropy',\n",
    "              optimizer=RMSprop(),\n",
    "              metrics=['accuracy'])"
   ]
  },
  {
   "cell_type": "code",
   "execution_count": 12,
   "id": "f132ceff",
   "metadata": {},
   "outputs": [
    {
     "name": "stdout",
     "output_type": "stream",
     "text": [
      "Epoch 1/20\n",
      "1178/1182 [============================>.] - ETA: 0s - loss: 0.2015 - accuracy: 0.9380\n",
      "Epoch 00001: val_loss improved from inf to 0.06327, saving model to model.h5\n",
      "1182/1182 [==============================] - 18s 14ms/step - loss: 0.2012 - accuracy: 0.9381 - val_loss: 0.0633 - val_accuracy: 0.9807\n",
      "Epoch 2/20\n",
      "1178/1182 [============================>.] - ETA: 0s - loss: 0.0724 - accuracy: 0.9783\n",
      "Epoch 00002: val_loss improved from 0.06327 to 0.05321, saving model to model.h5\n",
      "1182/1182 [==============================] - 17s 15ms/step - loss: 0.0727 - accuracy: 0.9783 - val_loss: 0.0532 - val_accuracy: 0.9845\n",
      "Epoch 3/20\n",
      "1180/1182 [============================>.] - ETA: 0s - loss: 0.0522 - accuracy: 0.9843\n",
      "Epoch 00003: val_loss improved from 0.05321 to 0.04090, saving model to model.h5\n",
      "1182/1182 [==============================] - 19s 16ms/step - loss: 0.0524 - accuracy: 0.9843 - val_loss: 0.0409 - val_accuracy: 0.9869\n",
      "Epoch 4/20\n",
      "1180/1182 [============================>.] - ETA: 0s - loss: 0.0453 - accuracy: 0.9865 ETA: 0s - loss: 0.0457 \n",
      "Epoch 00004: val_loss did not improve from 0.04090\n",
      "1182/1182 [==============================] - 18s 15ms/step - loss: 0.0452 - accuracy: 0.9866 - val_loss: 0.0479 - val_accuracy: 0.9864\n",
      "Epoch 5/20\n",
      "1180/1182 [============================>.] - ETA: 0s - loss: 0.0398 - accuracy: 0.9890\n",
      "Epoch 00005: val_loss did not improve from 0.04090\n",
      "1182/1182 [==============================] - 17s 15ms/step - loss: 0.0397 - accuracy: 0.9890 - val_loss: 0.0469 - val_accuracy: 0.9862\n",
      "Epoch 6/20\n",
      "1179/1182 [============================>.] - ETA: 0s - loss: 0.0355 - accuracy: 0.9898\n",
      "Epoch 00006: val_loss did not improve from 0.04090\n",
      "1182/1182 [==============================] - 18s 15ms/step - loss: 0.0357 - accuracy: 0.9898 - val_loss: 0.0433 - val_accuracy: 0.9888\n",
      "Epoch 7/20\n",
      "1181/1182 [============================>.] - ETA: 0s - loss: 0.0306 - accuracy: 0.9909\n",
      "Epoch 00007: val_loss improved from 0.04090 to 0.04044, saving model to model.h5\n",
      "1182/1182 [==============================] - 17s 15ms/step - loss: 0.0306 - accuracy: 0.9909 - val_loss: 0.0404 - val_accuracy: 0.9879\n",
      "Epoch 8/20\n",
      "1181/1182 [============================>.] - ETA: 0s - loss: 0.0298 - accuracy: 0.9910\n",
      "Epoch 00008: val_loss did not improve from 0.04044\n",
      "1182/1182 [==============================] - 18s 15ms/step - loss: 0.0298 - accuracy: 0.9910 - val_loss: 0.0421 - val_accuracy: 0.9876\n",
      "Epoch 9/20\n",
      "1180/1182 [============================>.] - ETA: 0s - loss: 0.0297 - accuracy: 0.9915\n",
      "Epoch 00009: val_loss did not improve from 0.04044\n",
      "1182/1182 [==============================] - 18s 15ms/step - loss: 0.0297 - accuracy: 0.9915 - val_loss: 0.0483 - val_accuracy: 0.9879\n",
      "Epoch 10/20\n",
      "1179/1182 [============================>.] - ETA: 0s - loss: 0.0302 - accuracy: 0.9912\n",
      "Epoch 00010: val_loss did not improve from 0.04044\n",
      "1182/1182 [==============================] - 20s 17ms/step - loss: 0.0302 - accuracy: 0.9912 - val_loss: 0.0545 - val_accuracy: 0.9857\n",
      "Epoch 11/20\n",
      "1179/1182 [============================>.] - ETA: 0s - loss: 0.0291 - accuracy: 0.9914\n",
      "Epoch 00011: val_loss did not improve from 0.04044\n",
      "1182/1182 [==============================] - 19s 16ms/step - loss: 0.0291 - accuracy: 0.9914 - val_loss: 0.0418 - val_accuracy: 0.9898\n",
      "Epoch 12/20\n",
      "1181/1182 [============================>.] - ETA: 0s - loss: 0.0323 - accuracy: 0.9917\n",
      "Epoch 00012: val_loss did not improve from 0.04044\n",
      "1182/1182 [==============================] - 25s 21ms/step - loss: 0.0323 - accuracy: 0.9917 - val_loss: 0.0493 - val_accuracy: 0.9881\n",
      "Epoch 13/20\n",
      "1178/1182 [============================>.] - ETA: 0s - loss: 0.0311 - accuracy: 0.9912\n",
      "Epoch 00013: val_loss did not improve from 0.04044\n",
      "1182/1182 [==============================] - 20s 17ms/step - loss: 0.0310 - accuracy: 0.9912 - val_loss: 0.0621 - val_accuracy: 0.9862\n",
      "Epoch 14/20\n",
      "1182/1182 [==============================] - ETA: 0s - loss: 0.0335 - accuracy: 0.9901\n",
      "Epoch 00014: val_loss did not improve from 0.04044\n",
      "1182/1182 [==============================] - 19s 16ms/step - loss: 0.0335 - accuracy: 0.9901 - val_loss: 0.0709 - val_accuracy: 0.9843\n",
      "Epoch 15/20\n",
      "1180/1182 [============================>.] - ETA: 0s - loss: 0.0336 - accuracy: 0.9904\n",
      "Epoch 00015: val_loss did not improve from 0.04044\n",
      "1182/1182 [==============================] - 18s 15ms/step - loss: 0.0335 - accuracy: 0.9904 - val_loss: 0.0503 - val_accuracy: 0.9869\n",
      "Epoch 16/20\n",
      "1181/1182 [============================>.] - ETA: 0s - loss: 0.0349 - accuracy: 0.9905\n",
      "Epoch 00016: val_loss did not improve from 0.04044\n",
      "1182/1182 [==============================] - 18s 15ms/step - loss: 0.0349 - accuracy: 0.9905 - val_loss: 0.0630 - val_accuracy: 0.9895\n",
      "Epoch 17/20\n",
      "1180/1182 [============================>.] - ETA: 0s - loss: 0.0373 - accuracy: 0.9894\n",
      "Epoch 00017: val_loss did not improve from 0.04044\n",
      "1182/1182 [==============================] - 17s 15ms/step - loss: 0.0373 - accuracy: 0.9894 - val_loss: 0.0560 - val_accuracy: 0.9879\n",
      "Epoch 00017: early stopping\n"
     ]
    }
   ],
   "source": [
    "# Treinamento com as partes dos dados\n",
    "\n",
    "# número de amostras de testes\n",
    "batch_size = 32\n",
    "# n° de épocas\n",
    "epochs = 20\n",
    "\n",
    "# #Salvar o melhor modelo, utilizando o h5 H5, que é um formato de arquivo para armazenar dados estruturados, \n",
    "# não é um modelo em si. Keras salva os modelos neste formato, pois pode armazenar facilmente os pesos \n",
    "# e a configuração do modelo em um único arquivo.\n",
    "callbacks_list = [\n",
    "    keras.callbacks.ModelCheckpoint(\n",
    "    filepath='model.h5',\n",
    "    monitor='val_loss', save_best_only=True, verbose=1),\n",
    "    keras.callbacks.EarlyStopping(monitor='val_loss', patience=10,verbose=1)\n",
    "]\n",
    "\n",
    "history = model.fit(x_train, y_train,\n",
    "                    batch_size=batch_size,\n",
    "                    epochs=epochs,\n",
    "                    callbacks = callbacks_list,\n",
    "                    verbose=1,\n",
    "                    validation_data=(x_val, y_val))"
   ]
  },
  {
   "cell_type": "code",
   "execution_count": 39,
   "id": "93515aa8",
   "metadata": {},
   "outputs": [
    {
     "data": {
      "image/png": "[encoded data removed]",
      "text/plain": [
       "<Figure size 1152x576 with 2 Axes>"
      ]
     },
     "metadata": {
      "needs_background": "light"
     },
     "output_type": "display_data"
    }
   ],
   "source": [
    "# Plotando o gráfico de perda e validação da Acurácia\n",
    "\n",
    "fig, ax = plt.subplots(1,2, figsize=(16,8))\n",
    "ax[0].plot(history.history['loss'], color='b', label=\"Training loss\")\n",
    "ax[0].plot(history.history['val_loss'], color='r', label=\"validation loss\",axes =ax[0])\n",
    "legend = ax[0].legend(loc='best', shadow=True)\n",
    "\n",
    "ax[1].plot(history.history['accuracy'], color='b', label=\"Training accuracy\")\n",
    "ax[1].plot(history.history['val_accuracy'], color='r',label=\"Validation accuracy\")\n",
    "legend = ax[1].legend(loc='best', shadow=True)"
   ]
  },
  {
   "cell_type": "code",
   "execution_count": 40,
   "id": "baf77e6a",
   "metadata": {},
   "outputs": [],
   "source": [
    "from tensorflow.keras.models import load_model\n",
    "model = load_model('model.h5')"
   ]
  },
  {
   "cell_type": "code",
   "execution_count": 41,
   "id": "6fd2cffe",
   "metadata": {},
   "outputs": [
    {
     "name": "stdout",
     "output_type": "stream",
     "text": [
      "Test loss: 0.040439724922180176\n",
      "Test accuracy: 0.9878571629524231\n"
     ]
    }
   ],
   "source": [
    "# Testa\n",
    "score = model.evaluate(x_val, y_val, verbose=0)\n",
    "print('Test loss:', score[0])\n",
    "print('Test accuracy:', score[1])"
   ]
  },
  {
   "cell_type": "code",
   "execution_count": 42,
   "id": "3d36dcd0",
   "metadata": {},
   "outputs": [
    {
     "name": "stdout",
     "output_type": "stream",
     "text": [
      "[0. 0. 0. 0. 1. 0. 0. 0. 0. 0.]\n",
      "[[3.0164454e-06 1.9166698e-07 5.1664653e-08 6.9653255e-12 9.9793458e-01\n",
      "  1.1185035e-08 1.4003448e-03 5.9783972e-08 6.6138833e-04 4.3401675e-07]]\n",
      "[[3.0164454e-06 1.9166698e-07 5.1664653e-08 6.9653255e-12 9.9793458e-01\n",
      "  1.1185035e-08 1.4003448e-03 5.9783972e-08 6.6138833e-04 4.3401675e-07]]\n"
     ]
    }
   ],
   "source": [
    "# Testando uma entrada para valores quaisquer\n",
    "print(y_train[10])\n",
    "print(model.predict(x_train[10].reshape((1,28,28,1))))\n",
    "print(model.predict(x_train[10].reshape((1,28,28,1))))"
   ]
  },
  {
   "cell_type": "code",
   "execution_count": null,
   "id": "bee63b30",
   "metadata": {},
   "outputs": [],
   "source": []
  }
 ],
 "metadata": {
  "kernelspec": {
   "display_name": "Python 3",
   "language": "python",
   "name": "python3"
  },
  "language_info": {
   "codemirror_mode": {
    "name": "ipython",
    "version": 3
   },
   "file_extension": ".py",
   "mimetype": "text/x-python",
   "name": "python",
   "nbconvert_exporter": "python",
   "pygments_lexer": "ipython3",
   "version": "3.8.8"
  }
 },
 "nbformat": 4,
 "nbformat_minor": 5
}
