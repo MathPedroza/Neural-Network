{
 "cells": [
  {
   "cell_type": "markdown",
   "id": "f0ee604b",
   "metadata": {},
   "source": [
    "# CARREGANDO A BASE DE DADOS"
   ]
  },
  {
   "cell_type": "markdown",
   "id": "9429dc95",
   "metadata": {},
   "source": [
    "Keras vem com uma biblioteca chamada conjuntos de dados, que pode utilizar para carregar conjuntos de dados fora da caixa: descarrega os dados do servidor e acelera o processo uma vez que já não tem de descarregar os dados para o seu computador. O comboio e as imagens de teste juntamente com as etiquetas são carregados e armazenados em variáveis train_X, train_Y, test_X, test_Y, respectivamente."
   ]
  },
  {
   "cell_type": "code",
   "execution_count": 1,
   "id": "b39175d7",
   "metadata": {},
   "outputs": [],
   "source": [
    "from keras.datasets import mnist # dataset\n",
    "(train_X,train_Y), (test_X,test_Y) = mnist.load_data()"
   ]
  },
  {
   "cell_type": "markdown",
   "id": "95a6b2be",
   "metadata": {},
   "source": [
    "# ANALISANDO O DATASET"
   ]
  },
  {
   "cell_type": "code",
   "execution_count": 2,
   "id": "e02cf27a",
   "metadata": {},
   "outputs": [
    {
     "name": "stdout",
     "output_type": "stream",
     "text": [
      "Training data shape :  (60000, 28, 28) (60000,)\n",
      "Testing data shape :  (10000, 28, 28) (10000,)\n"
     ]
    }
   ],
   "source": [
    "import numpy as np\n",
    "import tensorflow\n",
    "from tensorflow.keras.utils import to_categorical\n",
    "import matplotlib.pyplot as plt\n",
    "%matplotlib inline\n",
    "\n",
    "print('Training data shape : ', train_X.shape, train_Y.shape)\n",
    "\n",
    "print('Testing data shape : ', test_X.shape, test_Y.shape)"
   ]
  },
  {
   "cell_type": "markdown",
   "id": "d4c3909f",
   "metadata": {},
   "source": [
    "A partir dos resultados acima referidos, pode-se ver que os dados de formação têm uma forma de 60000 x 28 x 28, uma vez que existem 60.000 amostras de formação de cada uma das dimensões 28 x 28. Da mesma forma, os dados de teste têm uma forma de 10000 x 28 x 28, uma vez que existem 10.000 amostras de teste."
   ]
  },
  {
   "cell_type": "code",
   "execution_count": 3,
   "id": "3f001000",
   "metadata": {},
   "outputs": [
    {
     "name": "stdout",
     "output_type": "stream",
     "text": [
      "Total number of outputs :  10\n",
      "Output classes :  [0 1 2 3 4 5 6 7 8 9]\n"
     ]
    }
   ],
   "source": [
    "# Encontrar os números únicos das etiquetas dos comboios\n",
    "classes = np.unique(train_Y)\n",
    "nClasses = len(classes)\n",
    "print('Total number of outputs : ', nClasses)\n",
    "print('Output classes : ', classes)"
   ]
  },
  {
   "cell_type": "markdown",
   "id": "76ffe640",
   "metadata": {},
   "source": [
    "aqui está também um total de dez classes de saída que vão de 0 a 9."
   ]
  },
  {
   "cell_type": "code",
   "execution_count": 4,
   "id": "bad6b19d",
   "metadata": {},
   "outputs": [
    {
     "data": {
      "text/plain": [
       "Text(0.5, 1.0, 'Ground Truth : 7')"
      ]
     },
     "execution_count": 4,
     "metadata": {},
     "output_type": "execute_result"
    },
    {
     "data": {
      "image/png": "[encoded data removed]",
      "text/plain": [
       "<Figure size 360x360 with 2 Axes>"
      ]
     },
     "metadata": {
      "needs_background": "light"
     },
     "output_type": "display_data"
    }
   ],
   "source": [
    "plt.figure(figsize=[5,5])\n",
    "\n",
    "# Mostrar a primeira imagem nos dados de formação\n",
    "plt.subplot(121)\n",
    "plt.imshow(train_X[0,:,:], cmap='gray')\n",
    "plt.title(\"Ground Truth : {}\".format(train_Y[0]))\n",
    "\n",
    "# Mostrar a primeira imagem nos dados de teste\n",
    "plt.subplot(122)\n",
    "plt.imshow(test_X[0,:,:], cmap='gray')\n",
    "plt.title(\"Ground Truth : {}\".format(test_Y[0]))"
   ]
  },
  {
   "cell_type": "markdown",
   "id": "3176c3ba",
   "metadata": {},
   "source": [
    "A saída de duas parcelas acima parece uma bota de tornozelo, e a esta classe é atribuída uma etiqueta de classe de 9. Da mesma forma, outros produtos de moda terão etiquetas diferentes, mas produtos semelhantes terão as mesmas etiquetas. Isto significa que todas as imagens da bota de 7.000 tornozelos terão uma etiqueta de classe de 9."
   ]
  },
  {
   "cell_type": "code",
   "execution_count": 5,
   "id": "006f6251",
   "metadata": {},
   "outputs": [
    {
     "data": {
      "text/plain": [
       "((60000, 28, 28, 1), (10000, 28, 28, 1))"
      ]
     },
     "execution_count": 5,
     "metadata": {},
     "output_type": "execute_result"
    }
   ],
   "source": [
    "train_X = train_X.reshape(-1, 28,28, 1)\n",
    "test_X = test_X.reshape(-1, 28,28, 1)\n",
    "train_X.shape, test_X.shape"
   ]
  },
  {
   "cell_type": "markdown",
   "id": "2a311978",
   "metadata": {},
   "source": [
    "# PROCESSANDO OS DADOS"
   ]
  },
  {
   "cell_type": "markdown",
   "id": "7fe86d2c",
   "metadata": {},
   "source": [
    "O gráfico acima, as imagens são imagens em escala de cinzentos com valores de píxeis que variam entre 0 e 255. Além disso, estas imagens têm uma dimensão de 28 x 28. Como resultado, terá de pré-processar os dados antes de os alimentar com o modelo.\n",
    "\n",
    "Como primeiro passo, converter cada imagem 28 x 28 do comboio e conjunto de teste numa matriz de tamanho 28 x 28 x 1 que é alimentada na rede."
   ]
  },
  {
   "cell_type": "code",
   "execution_count": 6,
   "id": "0797fb13",
   "metadata": {},
   "outputs": [],
   "source": [
    "train_X = train_X.astype('float32')\n",
    "test_X = test_X.astype('float32')\n",
    "train_X = train_X / 255.\n",
    "test_X = test_X / 255."
   ]
  },
  {
   "cell_type": "markdown",
   "id": "028a3148",
   "metadata": {},
   "source": [
    "Os dados neste momento estão num formato int8, por isso antes de os alimentar na rede é necessário converter o seu tipo para float32, e também é necessário anular os valores de píxeis no intervalo 0 - 1 inclusive."
   ]
  },
  {
   "cell_type": "markdown",
   "id": "150a2b56",
   "metadata": {},
   "source": [
    "Na codificação de uma só vez, converte-se os dados categóricos num vector de números. A razão pela qual se convertem os dados categóricos numa codificação a quente é que os algoritmos de aprendizagem de máquinas não podem trabalhar diretamente com dados categóricos. É gerada uma coluna booleana para cada categoria ou classe. Apenas uma destas colunas poderia assumir o valor 1 para cada amostra. Daí, o termo codificação a quente.\n",
    "\n",
    "Para a sua declaração de problema, a única codificação quente será um vector de linha, e para cada imagem, terá uma dimensão de 1 x 10. O importante a notar aqui é que o vector consiste em todos os zeros exceto para a classe que representa, e para isso, é 1. Por exemplo, a imagem da bota de tornozelo que traçou acima tem uma etiqueta de 9, portanto para todas as imagens da bota de tornozelo, o único vector de codificação a quente seria [0 0 0 0 0 0 0 0 0 1 0]."
   ]
  },
  {
   "cell_type": "code",
   "execution_count": 8,
   "id": "1fea938c",
   "metadata": {},
   "outputs": [
    {
     "name": "stdout",
     "output_type": "stream",
     "text": [
      "Original label: 5\n",
      "After conversion to one-hot: [0. 0. 0. 0. 0. 1. 0. 0. 0. 0.]\n"
     ]
    }
   ],
   "source": [
    "# Alterar os rótulos de codificação categórica para codificação de uma só vez\n",
    "train_Y_one_hot = to_categorical(train_Y)\n",
    "test_Y_one_hot = to_categorical(test_Y)\n",
    "\n",
    "# Mostrar a mudança para etiqueta de categoria usando codificação de uma só vez\n",
    "print('Original label:', train_Y[0])\n",
    "print('After conversion to one-hot:', train_Y_one_hot[0])"
   ]
  },
  {
   "cell_type": "markdown",
   "id": "2b49ad76",
   "metadata": {},
   "source": [
    "# DIVISÃO DE TREINO E TESTE"
   ]
  },
  {
   "cell_type": "markdown",
   "id": "6e6b9f8a",
   "metadata": {},
   "source": [
    "Este último passo é crucial. Na aprendizagem da máquina ou em qualquer tarefa específica de dados, deve particionar os dados corretamente. Para que o modelo possa generalizar bem, divide-se os dados de formação em duas partes, uma concebida para formação e outra para validação. Neste caso, irá treinar o modelo em 80\\% dos dados de formação e validá-lo em 20\\% dos restantes dados de formação. Isto também ajudará a reduzir o sobre ajuste, uma vez que estará a validar o modelo sobre os dados que não teria visto na fase de formação, o que ajudará a aumentar o desempenho do teste"
   ]
  },
  {
   "cell_type": "code",
   "execution_count": 9,
   "id": "bfab86a5",
   "metadata": {},
   "outputs": [],
   "source": [
    "from sklearn.model_selection import train_test_split\n",
    "train_X,valid_X,train_label,valid_label = train_test_split(train_X, train_Y_one_hot, test_size=0.2, random_state=13)"
   ]
  },
  {
   "cell_type": "markdown",
   "id": "98217d5e",
   "metadata": {},
   "source": [
    "As imagens são de tamanho 28 x 28. Converte-se a matriz da imagem para uma matriz, redimensiona-se entre 0 e 1, reformula-se para que tenha o tamanho 28 x 28 x 1, e alimenta-se esta como uma entrada para a rede.\n",
    "\n",
    "Utilizará três camadas convolutivas:\n",
    "\n",
    "A primeira camada terá 32-3 x 3 filtros,\n",
    "A segunda camada terá 64-3 x 3 filtros e\n",
    "A terceira camada terá 128-3 x 3 filtros.\n",
    "Além disso, existem três camadas de tamanho 2 x 2, cada uma das quais com um máximo de 2 x 2."
   ]
  },
  {
   "cell_type": "markdown",
   "id": "27409181",
   "metadata": {},
   "source": [
    "# MODELANDO OS DADOS"
   ]
  },
  {
   "cell_type": "code",
   "execution_count": 10,
   "id": "a6f50f83",
   "metadata": {},
   "outputs": [],
   "source": [
    "import keras\n",
    "from keras.models import Sequential,Input,Model\n",
    "from keras.layers import Dense, Dropout, Flatten\n",
    "from keras.layers import Conv2D, MaxPooling2D\n",
    "# from keras.layers.normalization import BatchNormalization\n",
    "from keras.layers.advanced_activations import LeakyReLU"
   ]
  },
  {
   "cell_type": "code",
   "execution_count": 11,
   "id": "c15432f3",
   "metadata": {},
   "outputs": [],
   "source": [
    "batch_size = 64\n",
    "epochs = 20\n",
    "num_classes = 10"
   ]
  },
  {
   "cell_type": "markdown",
   "id": "52ebf9a8",
   "metadata": {},
   "source": [
    "# ARQUITETURA DA REDE NEURAL"
   ]
  },
  {
   "cell_type": "markdown",
   "id": "10151fc4",
   "metadata": {},
   "source": [
    "Em Keras, pode simplesmente empilhar camadas adicionando a camada desejada uma a uma. É exatamente isso que fará aqui: primeiro adicionará uma primeira camada convolucional com Conv2D(). Note que utiliza esta função porque está a trabalhar com imagens! A seguir, adiciona a função de ativação Leaky ReLU que ajuda a rede a aprender limites de decisão não lineares. Uma vez que tem dez classes diferentes, necessitará de um limite de decisão não linear que possa separar estas dez classes que não são separáveis linearmente.\n",
    "\n",
    "Mais especificamente, adicionam-se as ReLUs Leaky porque elas tentam resolver o problema de unidades lineares retificadas (ReLUs) moribundas. A função de ativação das ReLU é muito utilizada em arquiteturas de redes neurais e mais especificamente em redes convolucionais, onde provou ser mais eficaz do que a função sigmoide logística amplamente utilizada. A partir de 2017, esta função de ativação é a mais popular para redes neuronais profundas. A função ReLU permite a ativação a zero. Contudo, durante a formação, as unidades ReLU podem \"morrer\". Isto pode acontecer quando um grande gradiente flui através de um neurónio ReLU: pode fazer com que os pesos sejam actualizados de tal forma que o neurónio nunca mais será ativado em nenhum ponto de dados. Se isto acontecer, então o gradiente que flui através da unidade será para sempre zero a partir desse ponto. Os ReLUs com fugas tentam resolver isto: a função não será zero, mas terá um pequeno declive negativo.\n",
    "\n",
    "A seguir, será adicionada a camada de max-pooling com MaxPooling2D() e assim por diante. A última camada é uma camada Densa que tem uma função de ativação softmax com 10 unidades, que é necessária para este problema de classificação multiclasse."
   ]
  },
  {
   "cell_type": "code",
   "execution_count": 12,
   "id": "d1a754eb",
   "metadata": {},
   "outputs": [],
   "source": [
    "mnist_model = Sequential()\n",
    "mnist_model.add(Conv2D(32, kernel_size=(3, 3),activation='linear',input_shape=(28,28,1),padding='same'))\n",
    "mnist_model.add(LeakyReLU(alpha=0.1))\n",
    "mnist_model.add(MaxPooling2D((2, 2),padding='same'))\n",
    "mnist_model.add(Conv2D(64, (3, 3), activation='linear',padding='same'))\n",
    "mnist_model.add(LeakyReLU(alpha=0.1))\n",
    "mnist_model.add(MaxPooling2D(pool_size=(2, 2),padding='same'))\n",
    "mnist_model.add(Conv2D(128, (3, 3), activation='linear',padding='same'))\n",
    "mnist_model.add(LeakyReLU(alpha=0.1))                  \n",
    "mnist_model.add(MaxPooling2D(pool_size=(2, 2),padding='same'))\n",
    "mnist_model.add(Flatten())\n",
    "mnist_model.add(Dense(128, activation='linear'))\n",
    "mnist_model.add(LeakyReLU(alpha=0.1))                  \n",
    "mnist_model.add(Dense(num_classes, activation='softmax'))"
   ]
  },
  {
   "cell_type": "markdown",
   "id": "14a44374",
   "metadata": {},
   "source": [
    "# COMPILANDO O MODELO"
   ]
  },
  {
   "cell_type": "markdown",
   "id": "bcf9c966",
   "metadata": {},
   "source": [
    "Após a criação do modelo, compilamo-lo utilizando o Adam optimizer, um dos mais populares algoritmos de optimização. Pode ler mais sobre este otimizado aqui. Além disso, especifica o tipo de perda que é a entropia cruzada categórica que é utilizada para classificação multiclasse, pode também utilizar a centralidade cruzada binária como função de perda. Finalmente, especifica-se a métrica como a precisão que se pretende analisar enquanto o modelo está a treinar."
   ]
  },
  {
   "cell_type": "code",
   "execution_count": 13,
   "id": "25e56582",
   "metadata": {},
   "outputs": [],
   "source": [
    "mnist_model.compile(loss=keras.losses.categorical_crossentropy, optimizer=tensorflow.keras.optimizers.Adam(),metrics=['accuracy'])"
   ]
  },
  {
   "cell_type": "markdown",
   "id": "5baaaa52",
   "metadata": {},
   "source": [
    "Visualizando as camadas que criou no passo acima, utilizando a função de resumo. Isto mostrará alguns parâmetros (pesos e enviesamentos) em cada camada e também os parâmetros totais no seu modelo."
   ]
  },
  {
   "cell_type": "code",
   "execution_count": 14,
   "id": "e177b4ef",
   "metadata": {},
   "outputs": [
    {
     "name": "stdout",
     "output_type": "stream",
     "text": [
      "Model: \"sequential\"\n",
      "_________________________________________________________________\n",
      " Layer (type)                Output Shape              Param #   \n",
      "=================================================================\n",
      " conv2d (Conv2D)             (None, 28, 28, 32)        320       \n",
      "                                                                 \n",
      " leaky_re_lu (LeakyReLU)     (None, 28, 28, 32)        0         \n",
      "                                                                 \n",
      " max_pooling2d (MaxPooling2D  (None, 14, 14, 32)       0         \n",
      " )                                                               \n",
      "                                                                 \n",
      " conv2d_1 (Conv2D)           (None, 14, 14, 64)        18496     \n",
      "                                                                 \n",
      " leaky_re_lu_1 (LeakyReLU)   (None, 14, 14, 64)        0         \n",
      "                                                                 \n",
      " max_pooling2d_1 (MaxPooling  (None, 7, 7, 64)         0         \n",
      " 2D)                                                             \n",
      "                                                                 \n",
      " conv2d_2 (Conv2D)           (None, 7, 7, 128)         73856     \n",
      "                                                                 \n",
      " leaky_re_lu_2 (LeakyReLU)   (None, 7, 7, 128)         0         \n",
      "                                                                 \n",
      " max_pooling2d_2 (MaxPooling  (None, 4, 4, 128)        0         \n",
      " 2D)                                                             \n",
      "                                                                 \n",
      " flatten (Flatten)           (None, 2048)              0         \n",
      "                                                                 \n",
      " dense (Dense)               (None, 128)               262272    \n",
      "                                                                 \n",
      " leaky_re_lu_3 (LeakyReLU)   (None, 128)               0         \n",
      "                                                                 \n",
      " dense_1 (Dense)             (None, 10)                1290      \n",
      "                                                                 \n",
      "=================================================================\n",
      "Total params: 356,234\n",
      "Trainable params: 356,234\n",
      "Non-trainable params: 0\n",
      "_________________________________________________________________\n"
     ]
    }
   ],
   "source": [
    "mnist_model.summary()"
   ]
  },
  {
   "cell_type": "markdown",
   "id": "ab4fe651",
   "metadata": {},
   "source": [
    "# TREINANDO O MODELO"
   ]
  },
  {
   "cell_type": "markdown",
   "id": "7f62efde",
   "metadata": {},
   "source": [
    "O modelo treina durante 20 épocas. A função fit() devolverá um objecto de história; ao contar o resultado desta função no fashion_train, pode utilizá-la mais tarde para traçar os gráficos da função de precisão e perda entre o treino e a validação, o que o ajudará a analisar visualmente o desempenho do seu modelo."
   ]
  },
  {
   "cell_type": "code",
   "execution_count": 72,
   "id": "b05e6fe9",
   "metadata": {},
   "outputs": [
    {
     "name": "stdout",
     "output_type": "stream",
     "text": [
      "Epoch 1/20\n",
      "750/750 [==============================] - 55s 72ms/step - loss: 0.1610 - accuracy: 0.9486 - val_loss: 0.0550 - val_accuracy: 0.9842\n",
      "Epoch 2/20\n",
      "750/750 [==============================] - 61s 81ms/step - loss: 0.0457 - accuracy: 0.9861 - val_loss: 0.0392 - val_accuracy: 0.9883\n",
      "Epoch 3/20\n",
      "750/750 [==============================] - 62s 82ms/step - loss: 0.0306 - accuracy: 0.9908 - val_loss: 0.0441 - val_accuracy: 0.9869\n",
      "Epoch 4/20\n",
      "750/750 [==============================] - 65s 86ms/step - loss: 0.0234 - accuracy: 0.9925 - val_loss: 0.0289 - val_accuracy: 0.9919\n",
      "Epoch 5/20\n",
      "750/750 [==============================] - 64s 86ms/step - loss: 0.0160 - accuracy: 0.9946 - val_loss: 0.0478 - val_accuracy: 0.9864\n",
      "Epoch 6/20\n",
      "750/750 [==============================] - 66s 89ms/step - loss: 0.0135 - accuracy: 0.9957 - val_loss: 0.0386 - val_accuracy: 0.9899\n",
      "Epoch 7/20\n",
      "750/750 [==============================] - 78s 105ms/step - loss: 0.0131 - accuracy: 0.9956 - val_loss: 0.0337 - val_accuracy: 0.9910\n",
      "Epoch 8/20\n",
      "750/750 [==============================] - 73s 97ms/step - loss: 0.0111 - accuracy: 0.9963 - val_loss: 0.0364 - val_accuracy: 0.9914\n",
      "Epoch 9/20\n",
      "750/750 [==============================] - 54s 72ms/step - loss: 0.0090 - accuracy: 0.9969 - val_loss: 0.0488 - val_accuracy: 0.9880\n",
      "Epoch 10/20\n",
      "750/750 [==============================] - 56s 75ms/step - loss: 0.0095 - accuracy: 0.9967 - val_loss: 0.0408 - val_accuracy: 0.9916\n",
      "Epoch 11/20\n",
      "750/750 [==============================] - 54s 72ms/step - loss: 0.0078 - accuracy: 0.9975 - val_loss: 0.0358 - val_accuracy: 0.9902\n",
      "Epoch 12/20\n",
      "750/750 [==============================] - 53s 70ms/step - loss: 0.0049 - accuracy: 0.9985 - val_loss: 0.0557 - val_accuracy: 0.9867\n",
      "Epoch 13/20\n",
      "750/750 [==============================] - 52s 70ms/step - loss: 0.0078 - accuracy: 0.9974 - val_loss: 0.0457 - val_accuracy: 0.9902\n",
      "Epoch 14/20\n",
      "750/750 [==============================] - 55s 74ms/step - loss: 0.0066 - accuracy: 0.9979 - val_loss: 0.0451 - val_accuracy: 0.9915\n",
      "Epoch 15/20\n",
      "750/750 [==============================] - 54s 72ms/step - loss: 0.0029 - accuracy: 0.9992 - val_loss: 0.0510 - val_accuracy: 0.9902\n",
      "Epoch 16/20\n",
      "750/750 [==============================] - 54s 72ms/step - loss: 0.0078 - accuracy: 0.9974 - val_loss: 0.0447 - val_accuracy: 0.9917\n",
      "Epoch 17/20\n",
      "750/750 [==============================] - 60s 80ms/step - loss: 0.0054 - accuracy: 0.9983 - val_loss: 0.0494 - val_accuracy: 0.9902\n",
      "Epoch 18/20\n",
      "750/750 [==============================] - 65s 87ms/step - loss: 0.0056 - accuracy: 0.9982 - val_loss: 0.0431 - val_accuracy: 0.9913\n",
      "Epoch 19/20\n",
      "750/750 [==============================] - 79s 105ms/step - loss: 0.0031 - accuracy: 0.9991 - val_loss: 0.0534 - val_accuracy: 0.9900\n",
      "Epoch 20/20\n",
      "750/750 [==============================] - 77s 103ms/step - loss: 0.0046 - accuracy: 0.9985 - val_loss: 0.0504 - val_accuracy: 0.9899\n"
     ]
    }
   ],
   "source": [
    "mnist_model = mnist_model.fit(train_X, train_label, batch_size=batch_size,epochs=epochs,verbose=1,validation_data=(valid_X, valid_label))\n"
   ]
  },
  {
   "cell_type": "markdown",
   "id": "154026df",
   "metadata": {},
   "source": [
    "Treinado o modelo em moda-MNIST durante 20 épocas, e observando a precisão e perda do treino, pode dizer-se que o modelo fez um bom trabalho uma vez que após 20 épocas a precisão do treino é de 99% e a perda do treino é bastante baixa.\n",
    "\n",
    "No entanto, parece que o modelo está em excesso, pois a perda de validação é de 0,4396 e a precisão de validação é de 92%. O sobreajustamento dá uma intuição de que a rede memorizou muito bem os dados de formação, mas não é garantido que funcione com dados invisíveis, e é por isso que existe uma diferença na precisão da formação e validação.\n",
    "\n",
    "Provavelmente, é necessário lidar com isto. Nas secções seguintes, aprenderá como pode fazer com que o seu modelo tenha um desempenho muito melhor, adicionando uma camada Dropout à rede e mantendo todas as outras camadas inalteradas."
   ]
  },
  {
   "cell_type": "code",
   "execution_count": 81,
   "id": "9ee1c641",
   "metadata": {},
   "outputs": [],
   "source": [
    "test_eval = mnist_model.model.evaluate(test_X, test_Y_one_hot, verbose=0)"
   ]
  },
  {
   "cell_type": "code",
   "execution_count": 82,
   "id": "ed8bfcec",
   "metadata": {},
   "outputs": [
    {
     "name": "stdout",
     "output_type": "stream",
     "text": [
      "Test loss: 0.04465256258845329\n",
      "Test accuracy: 0.991100013256073\n"
     ]
    }
   ],
   "source": [
    "print('Test loss:', test_eval[0])\n",
    "print('Test accuracy:', test_eval[1])"
   ]
  },
  {
   "cell_type": "markdown",
   "id": "2ebcfb31",
   "metadata": {},
   "source": [
    "# PLOTANDO O GRÁFICO"
   ]
  },
  {
   "cell_type": "code",
   "execution_count": 87,
   "id": "5174d969",
   "metadata": {},
   "outputs": [
    {
     "data": {
      "image/png": "[encoded data removed]",
      "text/plain": [
       "<Figure size 432x288 with 1 Axes>"
      ]
     },
     "metadata": {
      "needs_background": "light"
     },
     "output_type": "display_data"
    },
    {
     "data": {
      "image/png": "[encoded data removed]",
      "text/plain": [
       "<Figure size 432x288 with 1 Axes>"
      ]
     },
     "metadata": {
      "needs_background": "light"
     },
     "output_type": "display_data"
    }
   ],
   "source": [
    "accuracy = mnist_model.history['accuracy']\n",
    "val_accuracy = mnist_model.history['val_accuracy']\n",
    "loss = mnist_model.history['loss']\n",
    "val_loss = mnist_model.history['val_loss']\n",
    "epochs = range(len(accuracy))\n",
    "plt.plot(epochs, accuracy, 'bo', label='Training accuracy')\n",
    "plt.plot(epochs, val_accuracy, 'b', label='Validation accuracy')\n",
    "plt.title('Training and validation accuracy')\n",
    "plt.legend()\n",
    "plt.figure()\n",
    "plt.plot(epochs, loss, 'bo', label='Training loss')\n",
    "plt.plot(epochs, val_loss, 'b', label='Validation loss')\n",
    "plt.title('Training and validation loss')\n",
    "plt.legend()\n",
    "plt.show()"
   ]
  },
  {
   "cell_type": "code",
   "execution_count": null,
   "id": "0960a190",
   "metadata": {},
   "outputs": [],
   "source": []
  }
 ],
 "metadata": {
  "kernelspec": {
   "display_name": "Python 3",
   "language": "python",
   "name": "python3"
  },
  "language_info": {
   "codemirror_mode": {
    "name": "ipython",
    "version": 3
   },
   "file_extension": ".py",
   "mimetype": "text/x-python",
   "name": "python",
   "nbconvert_exporter": "python",
   "pygments_lexer": "ipython3",
   "version": "3.8.8"
  }
 },
 "nbformat": 4,
 "nbformat_minor": 5
}
